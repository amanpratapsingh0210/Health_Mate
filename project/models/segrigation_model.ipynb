{
 "cells": [
  {
   "cell_type": "code",
   "execution_count": 1,
   "id": "99a8e6c3",
   "metadata": {},
   "outputs": [
    {
     "name": "stdout",
     "output_type": "stream",
     "text": [
      "Requirement already satisfied: ultralytics in c:\\users\\amanp\\appdata\\local\\programs\\python\\python39\\lib\\site-packages (8.3.144)\n",
      "Collecting opencv-python-headless\n",
      "  Using cached opencv_python_headless-4.11.0.86-cp37-abi3-win_amd64.whl (39.4 MB)\n",
      "Requirement already satisfied: scipy>=1.4.1 in c:\\users\\amanp\\appdata\\local\\programs\\python\\python39\\lib\\site-packages (from ultralytics) (1.13.1)\n",
      "Requirement already satisfied: pandas>=1.1.4 in c:\\users\\amanp\\appdata\\local\\programs\\python\\python39\\lib\\site-packages (from ultralytics) (2.2.3)\n",
      "Requirement already satisfied: requests>=2.23.0 in c:\\users\\amanp\\appdata\\local\\programs\\python\\python39\\lib\\site-packages (from ultralytics) (2.32.3)\n",
      "Requirement already satisfied: torch!=2.4.0,>=1.8.0 in c:\\users\\amanp\\appdata\\local\\programs\\python\\python39\\lib\\site-packages (from ultralytics) (2.7.0)\n",
      "Requirement already satisfied: ultralytics-thop>=2.0.0 in c:\\users\\amanp\\appdata\\local\\programs\\python\\python39\\lib\\site-packages (from ultralytics) (2.0.14)\n",
      "Requirement already satisfied: py-cpuinfo in c:\\users\\amanp\\appdata\\local\\programs\\python\\python39\\lib\\site-packages (from ultralytics) (9.0.0)\n",
      "Requirement already satisfied: numpy>=1.23.0 in c:\\users\\amanp\\appdata\\local\\programs\\python\\python39\\lib\\site-packages (from ultralytics) (2.0.2)\n",
      "Requirement already satisfied: opencv-python>=4.6.0 in c:\\users\\amanp\\appdata\\local\\programs\\python\\python39\\lib\\site-packages (from ultralytics) (4.10.0.84)\n",
      "Requirement already satisfied: pyyaml>=5.3.1 in c:\\users\\amanp\\appdata\\local\\programs\\python\\python39\\lib\\site-packages (from ultralytics) (6.0.2)\n",
      "Requirement already satisfied: torchvision>=0.9.0 in c:\\users\\amanp\\appdata\\local\\programs\\python\\python39\\lib\\site-packages (from ultralytics) (0.22.0)\n",
      "Requirement already satisfied: matplotlib>=3.3.0 in c:\\users\\amanp\\appdata\\local\\programs\\python\\python39\\lib\\site-packages (from ultralytics) (3.9.4)\n",
      "Requirement already satisfied: tqdm>=4.64.0 in c:\\users\\amanp\\appdata\\local\\programs\\python\\python39\\lib\\site-packages (from ultralytics) (4.67.1)\n",
      "Requirement already satisfied: psutil in c:\\users\\amanp\\appdata\\local\\programs\\python\\python39\\lib\\site-packages (from ultralytics) (7.0.0)\n",
      "Requirement already satisfied: pillow>=7.1.2 in c:\\users\\amanp\\appdata\\local\\programs\\python\\python39\\lib\\site-packages (from ultralytics) (11.2.1)\n",
      "Requirement already satisfied: pyparsing>=2.3.1 in c:\\users\\amanp\\appdata\\local\\programs\\python\\python39\\lib\\site-packages (from matplotlib>=3.3.0->ultralytics) (3.2.3)\n",
      "Requirement already satisfied: kiwisolver>=1.3.1 in c:\\users\\amanp\\appdata\\local\\programs\\python\\python39\\lib\\site-packages (from matplotlib>=3.3.0->ultralytics) (1.4.7)\n",
      "Requirement already satisfied: cycler>=0.10 in c:\\users\\amanp\\appdata\\local\\programs\\python\\python39\\lib\\site-packages (from matplotlib>=3.3.0->ultralytics) (0.12.1)\n",
      "Requirement already satisfied: contourpy>=1.0.1 in c:\\users\\amanp\\appdata\\local\\programs\\python\\python39\\lib\\site-packages (from matplotlib>=3.3.0->ultralytics) (1.3.0)\n",
      "Requirement already satisfied: packaging>=20.0 in c:\\users\\amanp\\appdata\\local\\programs\\python\\python39\\lib\\site-packages (from matplotlib>=3.3.0->ultralytics) (25.0)\n",
      "Requirement already satisfied: python-dateutil>=2.7 in c:\\users\\amanp\\appdata\\local\\programs\\python\\python39\\lib\\site-packages (from matplotlib>=3.3.0->ultralytics) (2.9.0.post0)\n",
      "Requirement already satisfied: importlib-resources>=3.2.0 in c:\\users\\amanp\\appdata\\local\\programs\\python\\python39\\lib\\site-packages (from matplotlib>=3.3.0->ultralytics) (6.5.2)\n",
      "Requirement already satisfied: fonttools>=4.22.0 in c:\\users\\amanp\\appdata\\local\\programs\\python\\python39\\lib\\site-packages (from matplotlib>=3.3.0->ultralytics) (4.58.0)\n",
      "Requirement already satisfied: tzdata>=2022.7 in c:\\users\\amanp\\appdata\\local\\programs\\python\\python39\\lib\\site-packages (from pandas>=1.1.4->ultralytics) (2025.2)\n",
      "Requirement already satisfied: pytz>=2020.1 in c:\\users\\amanp\\appdata\\local\\programs\\python\\python39\\lib\\site-packages (from pandas>=1.1.4->ultralytics) (2025.2)\n",
      "Requirement already satisfied: urllib3<3,>=1.21.1 in c:\\users\\amanp\\appdata\\local\\programs\\python\\python39\\lib\\site-packages (from requests>=2.23.0->ultralytics) (2.4.0)\n",
      "Requirement already satisfied: charset-normalizer<4,>=2 in c:\\users\\amanp\\appdata\\local\\programs\\python\\python39\\lib\\site-packages (from requests>=2.23.0->ultralytics) (3.4.2)\n",
      "Requirement already satisfied: idna<4,>=2.5 in c:\\users\\amanp\\appdata\\local\\programs\\python\\python39\\lib\\site-packages (from requests>=2.23.0->ultralytics) (3.10)\n",
      "Requirement already satisfied: certifi>=2017.4.17 in c:\\users\\amanp\\appdata\\local\\programs\\python\\python39\\lib\\site-packages (from requests>=2.23.0->ultralytics) (2025.4.26)\n",
      "Requirement already satisfied: jinja2 in c:\\users\\amanp\\appdata\\local\\programs\\python\\python39\\lib\\site-packages (from torch!=2.4.0,>=1.8.0->ultralytics) (3.1.6)\n",
      "Requirement already satisfied: fsspec in c:\\users\\amanp\\appdata\\local\\programs\\python\\python39\\lib\\site-packages (from torch!=2.4.0,>=1.8.0->ultralytics) (2025.5.1)\n",
      "Requirement already satisfied: typing-extensions>=4.10.0 in c:\\users\\amanp\\appdata\\local\\programs\\python\\python39\\lib\\site-packages (from torch!=2.4.0,>=1.8.0->ultralytics) (4.13.2)\n",
      "Requirement already satisfied: filelock in c:\\users\\amanp\\appdata\\local\\programs\\python\\python39\\lib\\site-packages (from torch!=2.4.0,>=1.8.0->ultralytics) (3.18.0)\n",
      "Requirement already satisfied: networkx in c:\\users\\amanp\\appdata\\local\\programs\\python\\python39\\lib\\site-packages (from torch!=2.4.0,>=1.8.0->ultralytics) (3.2.1)\n",
      "Requirement already satisfied: sympy>=1.13.3 in c:\\users\\amanp\\appdata\\local\\programs\\python\\python39\\lib\\site-packages (from torch!=2.4.0,>=1.8.0->ultralytics) (1.14.0)\n",
      "Requirement already satisfied: colorama in c:\\users\\amanp\\appdata\\local\\programs\\python\\python39\\lib\\site-packages (from tqdm>=4.64.0->ultralytics) (0.4.6)\n",
      "Requirement already satisfied: zipp>=3.1.0 in c:\\users\\amanp\\appdata\\local\\programs\\python\\python39\\lib\\site-packages (from importlib-resources>=3.2.0->matplotlib>=3.3.0->ultralytics) (3.21.0)\n",
      "Requirement already satisfied: six>=1.5 in c:\\users\\amanp\\appdata\\local\\programs\\python\\python39\\lib\\site-packages (from python-dateutil>=2.7->matplotlib>=3.3.0->ultralytics) (1.17.0)\n",
      "Requirement already satisfied: mpmath<1.4,>=1.1.0 in c:\\users\\amanp\\appdata\\local\\programs\\python\\python39\\lib\\site-packages (from sympy>=1.13.3->torch!=2.4.0,>=1.8.0->ultralytics) (1.3.0)\n",
      "Requirement already satisfied: MarkupSafe>=2.0 in c:\\users\\amanp\\appdata\\local\\programs\\python\\python39\\lib\\site-packages (from jinja2->torch!=2.4.0,>=1.8.0->ultralytics) (3.0.2)\n",
      "Installing collected packages: opencv-python-headless\n",
      "Successfully installed opencv-python-headless-4.11.0.86\n",
      "Note: you may need to restart the kernel to use updated packages.\n"
     ]
    },
    {
     "name": "stderr",
     "output_type": "stream",
     "text": [
      "WARNING: You are using pip version 22.0.4; however, version 25.1.1 is available.\n",
      "You should consider upgrading via the 'c:\\Users\\amanp\\AppData\\Local\\Programs\\Python\\Python39\\python.exe -m pip install --upgrade pip' command.\n"
     ]
    }
   ],
   "source": [
    "#Install dependencies\n",
    "%pip install ultralytics opencv-python-headless"
   ]
  },
  {
   "cell_type": "code",
   "execution_count": 2,
   "id": "c1222bb1",
   "metadata": {},
   "outputs": [],
   "source": [
    "# import modules\n",
    "import os\n",
    "import cv2\n",
    "import torch\n",
    "import uuid\n",
    "from ultralytics import YOLO\n",
    "from PIL import Image\n",
    "import numpy as np\n",
    "import matplotlib.pyplot as plt"
   ]
  },
  {
   "cell_type": "code",
   "execution_count": 4,
   "id": "99525bf0",
   "metadata": {},
   "outputs": [],
   "source": [
    "#Load trained segmentation model\n",
    "model = YOLO(r\"runs\\segment\\yolov8_food_segmentation\\weights\\best.pt\")"
   ]
  },
  {
   "cell_type": "code",
   "execution_count": 5,
   "id": "f292284c",
   "metadata": {},
   "outputs": [],
   "source": [
    "input_dir = \"input_images\"\n",
    "output_dir = \"output_items\"\n",
    "os.makedirs(input_dir, exist_ok=True)\n",
    "os.makedirs(output_dir, exist_ok=True)"
   ]
  },
  {
   "cell_type": "code",
   "execution_count": 9,
   "id": "2e2098f1",
   "metadata": {},
   "outputs": [],
   "source": [
    "def compute_iou(mask1, mask2):\n",
    "    intersection = np.logical_and(mask1, mask2).sum()\n",
    "    union = np.logical_or(mask1, mask2).sum()\n",
    "    return intersection / union if union > 0 else 0"
   ]
  },
  {
   "cell_type": "code",
   "execution_count": 10,
   "id": "cc3d0ee1",
   "metadata": {},
   "outputs": [],
   "source": [
    "#Function to process images and crop segmented food items\n",
    "def segment_and_save_items(image_path, output_dir, iou_thresh=0.5):\n",
    "    results = model(image_path)[0]\n",
    "    img = cv2.imread(image_path)\n",
    "\n",
    "    if results.masks is None:\n",
    "        print(f\"No objects found in {image_path}\")\n",
    "        return\n",
    "\n",
    "    masks = results.masks.data.cpu().numpy()\n",
    "    boxes = results.boxes.xyxy.cpu().numpy()\n",
    "    classes = results.boxes.cls.cpu().numpy()\n",
    "\n",
    "    kept_masks = []\n",
    "    kept_boxes = []\n",
    "    kept_classes = []\n",
    "\n",
    "    for i, mask in enumerate(masks):\n",
    "        is_duplicate = False\n",
    "        for kept_mask in kept_masks:\n",
    "            iou = compute_iou(mask.astype(bool), kept_mask.astype(bool))\n",
    "            if iou > iou_thresh:\n",
    "                is_duplicate = True\n",
    "                break\n",
    "        if not is_duplicate:\n",
    "            kept_masks.append(mask)\n",
    "            kept_boxes.append(boxes[i])\n",
    "            kept_classes.append(classes[i])\n",
    "\n",
    "    for mask, box, class_id in zip(kept_masks, kept_boxes, kept_classes):\n",
    "        class_name = model.names[int(class_id)]\n",
    "\n",
    "        x1, y1, x2, y2 = map(int, box)\n",
    "        masked_img = cv2.bitwise_and(img, img, mask=mask.astype(np.uint8))\n",
    "        cropped = masked_img[y1:y2, x1:x2]\n",
    "\n",
    "        if cropped.size == 0 or cropped.shape[0] < 20 or cropped.shape[1] < 20:\n",
    "            continue\n",
    "\n",
    "        filename = f\"{class_name}_{uuid.uuid4().hex[:8]}.jpg\"\n",
    "        cv2.imwrite(os.path.join(output_dir, filename), cropped)\n",
    "        print(f\"Saved: {filename}\")"
   ]
  },
  {
   "cell_type": "code",
   "execution_count": 14,
   "id": "f54ae476",
   "metadata": {},
   "outputs": [
    {
     "name": "stdout",
     "output_type": "stream",
     "text": [
      "\n",
      "image 1/1 c:\\Users\\amanp\\OneDrive\\COLLEGE\\Major Project - Health-Mate\\HealthMateCodeSpace\\input_images\\indian-vegetarian-thali-5_jpg.rf.e86fcb07c0a053824a68b45a0a892247.jpg: 640x640 2 bowls, 3 breads, 6 currys, 1 rice, 1 salad, 3 vegitable_mixs, 472.1ms\n",
      "Speed: 11.8ms preprocess, 472.1ms inference, 46.4ms postprocess per image at shape (1, 3, 640, 640)\n",
      "Saved: salad_945b4d11.jpg\n",
      "Saved: curry_4bc292c6.jpg\n",
      "Saved: curry_30499a8f.jpg\n",
      "Saved: rice_e5715ed8.jpg\n",
      "Saved: bread_478a71db.jpg\n",
      "Saved: curry_49e458f6.jpg\n",
      "Saved: vegitable_mix_0acbb0f1.jpg\n",
      "Saved: bread_2ba79186.jpg\n",
      "Saved: bread_b3a7b61c.jpg\n"
     ]
    }
   ],
   "source": [
    "# Run segmentation on all images in the input folder\n",
    "for filename in os.listdir(input_dir):\n",
    "    if filename.lower().endswith(('.jpg', '.png', '.jpeg')):\n",
    "        image_path = os.path.join(input_dir, filename)\n",
    "        segment_and_save_items(image_path, output_dir)"
   ]
  }
 ],
 "metadata": {
  "kernelspec": {
   "display_name": "Python 3",
   "language": "python",
   "name": "python3"
  },
  "language_info": {
   "codemirror_mode": {
    "name": "ipython",
    "version": 3
   },
   "file_extension": ".py",
   "mimetype": "text/x-python",
   "name": "python",
   "nbconvert_exporter": "python",
   "pygments_lexer": "ipython3",
   "version": "3.9.13"
  }
 },
 "nbformat": 4,
 "nbformat_minor": 5
}
